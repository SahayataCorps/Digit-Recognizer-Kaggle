{
 "cells": [
  {
   "cell_type": "code",
   "execution_count": 0,
   "metadata": {
    "colab": {},
    "colab_type": "code",
    "id": "1xKzKWaZjwTm"
   },
   "outputs": [],
   "source": [
    "\"\"\"\n",
    "@Author: Adarsh Agarwal\n",
    "Email Id: kingallies97@gmail.com\n",
    "Phone No: 9983778869\n",
    "\"\"\"\n",
    "import numpy as np\n",
    "from keras.datasets.mnist import load_data\n",
    "from keras.utils import to_categorical\n",
    "\n",
    "seed = 123\n",
    "np.random.seed(seed)\n",
    "\n",
    "#Using Mnist Dataset for Training\n",
    "(Xtrain, Ytrain), (Xtest, Ytest) = load_data()\n",
    "\n",
    "\n",
    "height, width = Xtrain.shape[1], Xtrain.shape[2]\n",
    "num_channels = 1  \n",
    "input_shape = height * width * num_channels\n",
    "\n",
    "Xtrain = np.reshape(Xtrain,(Xtrain.shape[0], height, width, num_channels))\n",
    "Xtest = np.reshape(Xtest,(Xtest.shape[0], height, width, num_channels))\n",
    "\n",
    "\n",
    "Xtrain = Xtrain.astype('float32') / 255.\n",
    "Xtest = Xtest.astype('float32') / 255.\n",
    "\n"
   ]
  },
  {
   "cell_type": "code",
   "execution_count": 0,
   "metadata": {
    "colab": {},
    "colab_type": "code",
    "id": "9N-TFoFTmYyX"
   },
   "outputs": [],
   "source": [
    "num_classes = 10\n",
    "Ytrain_cat = to_categorical(Ytrain,num_classes)\n",
    "Ytest_cat = to_categorical(Ytest,num_classes)\n",
    "\n",
    "\n",
    "for _ in range(5): \n",
    "    indexes = np.random.permutation(len(Xtrain))\n",
    "\n",
    "# randomly sorted!\n",
    "Xtrain = Xtrain[indexes]\n",
    "Ytrain_cat = Ytrain_cat[indexes]\n",
    "\n",
    "\n",
    "val_perc = 0.10\n",
    "val_count = int(val_perc * len(Xtrain))\n",
    "\n",
    "Xval = Xtrain[:val_count,:]\n",
    "Yval_cat = Ytrain_cat[:val_count,:]\n",
    "\n",
    "\n",
    "Xtrain2 = Xtrain[val_count:,:]\n",
    "Ytrain_cat2 = Ytrain_cat[val_count:,:]\n",
    "\n",
    "\n",
    "num_features = Xtrain.shape[1]\n",
    "num_epochs = 15\n",
    "batch_size = 64\n",
    "\n",
    "from keras.models import Sequential\n",
    "from keras.layers import Conv2D, MaxPooling2D, Flatten, Dense, Dropout\n",
    "\n",
    "def build_model():\n",
    "    model = Sequential()\n",
    "    # add Convolutional layers\n",
    "    model.add(Conv2D(filters=32, kernel_size=(3,3), activation='relu', padding='same',\n",
    "                     input_shape=(image_height, image_width, num_channels)))\n",
    "    model.add(MaxPooling2D(pool_size=(2,2)))\n",
    "    model.add(Conv2D(filters=64, kernel_size=(3,3), activation='relu', padding='same'))\n",
    "    model.add(MaxPooling2D(pool_size=(2,2)))\n",
    "    model.add(Conv2D(filters=64, kernel_size=(3,3), activation='relu', padding='same'))\n",
    "    model.add(MaxPooling2D(pool_size=(2,2)))    \n",
    "    model.add(Flatten())\n",
    "    # Densely connected layers\n",
    "    model.add(Dense(128, activation='relu'))\n",
    "    # output layer\n",
    "    model.add(Dense(num_classes, activation='softmax'))\n",
    "    # compile with adam optimizer & categorical_crossentropy loss function\n",
    "    model.compile(optimizer='adam', loss='categorical_crossentropy', metrics=['accuracy'])\n",
    "    return model\n",
    "  "
   ]
  },
  {
   "cell_type": "code",
   "execution_count": 12,
   "metadata": {
    "colab": {
     "base_uri": "https://localhost:8080/",
     "height": 598
    },
    "colab_type": "code",
    "id": "0X8Cxqujm8oc",
    "outputId": "1b152253-43b0-45ac-b5e4-94173253a72f"
   },
   "outputs": [
    {
     "name": "stdout",
     "output_type": "stream",
     "text": [
      "Train on 54000 samples, validate on 6000 samples\n",
      "Epoch 1/15\n",
      "54000/54000 [==============================] - 89s 2ms/step - loss: 0.1882 - acc: 0.9422 - val_loss: 0.0575 - val_acc: 0.9828\n",
      "Epoch 2/15\n",
      "54000/54000 [==============================] - 89s 2ms/step - loss: 0.0481 - acc: 0.9846 - val_loss: 0.0396 - val_acc: 0.9895\n",
      "Epoch 3/15\n",
      "54000/54000 [==============================] - 90s 2ms/step - loss: 0.0336 - acc: 0.9895 - val_loss: 0.0398 - val_acc: 0.9882\n",
      "Epoch 4/15\n",
      "54000/54000 [==============================] - 89s 2ms/step - loss: 0.0260 - acc: 0.9914 - val_loss: 0.0406 - val_acc: 0.9882\n",
      "Epoch 5/15\n",
      "54000/54000 [==============================] - 89s 2ms/step - loss: 0.0208 - acc: 0.9929 - val_loss: 0.0452 - val_acc: 0.9870\n",
      "Epoch 6/15\n",
      "54000/54000 [==============================] - 89s 2ms/step - loss: 0.0179 - acc: 0.9942 - val_loss: 0.0337 - val_acc: 0.9900\n",
      "Epoch 7/15\n",
      "54000/54000 [==============================] - 89s 2ms/step - loss: 0.0143 - acc: 0.9953 - val_loss: 0.0409 - val_acc: 0.9895\n",
      "Epoch 8/15\n",
      "54000/54000 [==============================] - 89s 2ms/step - loss: 0.0142 - acc: 0.9952 - val_loss: 0.0295 - val_acc: 0.9915\n",
      "Epoch 9/15\n",
      "54000/54000 [==============================] - 89s 2ms/step - loss: 0.0108 - acc: 0.9962 - val_loss: 0.0350 - val_acc: 0.9917\n",
      "Epoch 10/15\n",
      "54000/54000 [==============================] - 89s 2ms/step - loss: 0.0105 - acc: 0.9963 - val_loss: 0.0404 - val_acc: 0.9893\n",
      "Epoch 11/15\n",
      "54000/54000 [==============================] - 88s 2ms/step - loss: 0.0084 - acc: 0.9974 - val_loss: 0.0440 - val_acc: 0.9900\n",
      "Epoch 12/15\n",
      "54000/54000 [==============================] - 88s 2ms/step - loss: 0.0087 - acc: 0.9970 - val_loss: 0.0420 - val_acc: 0.9897\n",
      "Epoch 13/15\n",
      "54000/54000 [==============================] - 88s 2ms/step - loss: 0.0065 - acc: 0.9979 - val_loss: 0.0340 - val_acc: 0.9910\n",
      "Epoch 14/15\n",
      "54000/54000 [==============================] - 89s 2ms/step - loss: 0.0054 - acc: 0.9982 - val_loss: 0.0332 - val_acc: 0.9917\n",
      "Epoch 15/15\n",
      "54000/54000 [==============================] - 88s 2ms/step - loss: 0.0071 - acc: 0.9975 - val_loss: 0.0399 - val_acc: 0.9905\n",
      "10000/10000 [==============================] - 5s 485us/step\n",
      "Test loss: 0.0368 accuracy: 0.9905\n"
     ]
    }
   ],
   "source": [
    "model = build_model()\n",
    "history = model.fit(Xtrain2, Ytrain_cat2, epochs=15, batch_size=64,\n",
    "                    validation_data=(Xval, Yval_cat))\n",
    "test_loss, test_accuracy = model.evaluate(Xtest, Ytest_cat, batch_size=batch_size)\n",
    "print('Test loss: %.4f accuracy: %.4f' % (test_loss, test_accuracy))"
   ]
  },
  {
   "cell_type": "code",
   "execution_count": 0,
   "metadata": {
    "colab": {},
    "colab_type": "code",
    "id": "2EJ7ZO5LvQSD"
   },
   "outputs": [],
   "source": [
    "import pandas as pd\n",
    "df = pd.read_csv('test.csv')\n",
    "XFinal = df.iloc[:,:].values\n",
    "XFinal = XFinal/255\n",
    "XFinal = np.reshape(XFinal,(28000,28,28,1))\n",
    "ypred = model.predict_classes(XFinal)\n",
    "df3 = pd.DataFrame(np.array(ypred))\n",
    "df3.index+=1\n",
    "df3.to_csv(\"CNNsub1.csv\")\n",
    "\n"
   ]
  }
 ],
 "metadata": {
  "colab": {
   "collapsed_sections": [],
   "name": "Untitled1.ipynb",
   "provenance": [],
   "version": "0.3.2"
  },
  "kernelspec": {
   "display_name": "Python 3",
   "language": "python",
   "name": "python3"
  },
  "language_info": {
   "codemirror_mode": {
    "name": "ipython",
    "version": 3
   },
   "file_extension": ".py",
   "mimetype": "text/x-python",
   "name": "python",
   "nbconvert_exporter": "python",
   "pygments_lexer": "ipython3",
   "version": "3.6.4"
  }
 },
 "nbformat": 4,
 "nbformat_minor": 1
}
