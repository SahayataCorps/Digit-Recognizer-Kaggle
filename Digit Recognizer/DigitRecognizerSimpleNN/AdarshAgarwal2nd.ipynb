{
 "cells": [
  {
   "cell_type": "code",
   "execution_count": null,
   "metadata": {},
   "outputs": [],
   "source": [
    "\"\"\"\n",
    "@Author: Adarsh Agarwal\n",
    "Email Id: kingallies97@gmail.com\n",
    "Phone No: 9983778869\n",
    "\"\"\"\n",
    "import pandas as pd\n",
    "import numpy as np\n",
    "import keras\n",
    "from keras.models import Sequential\n",
    "from keras.layers import Dense\n",
    "from keras.layers import Dropout\n",
    "from keras.utils import np_utils\n",
    "from sklearn.model_selection import train_test_split, cross_val_score"
   ]
  },
  {
   "cell_type": "code",
   "execution_count": null,
   "metadata": {},
   "outputs": [],
   "source": [
    "df = pd.read_csv('train.csv', header=None)\n",
    "\n",
    "X = df.iloc[:,1:].values\n",
    "Y = df.iloc[:,0].values\n",
    "\n",
    "X = X/255\n",
    "\n",
    "df2 = pd.read_csv(\"test.csv\")\n",
    "XFinal = df2.iloc[:,:].values\n",
    "XFinal = XFinal/255\n"
   ]
  },
  {
   "cell_type": "code",
   "execution_count": null,
   "metadata": {},
   "outputs": [],
   "source": [
    "(XTrain, XTest, YTrain, YTest ) = train_test_split(X, Y, test_size=0.2)\n",
    "\n",
    "\n",
    "y_train = np_utils.to_categorical(YTrain)\n",
    "y_test = np_utils.to_categorical(YTest)\n",
    "num_classes = 10\n",
    "num_pixels = 784\n"
   ]
  },
  {
   "cell_type": "code",
   "execution_count": null,
   "metadata": {},
   "outputs": [],
   "source": [
    "denseModel = Sequential()\n",
    "denseModel.add(Dense(512, activation='relu', input_shape=(784,)))\n",
    "denseModel.add(Dropout(0.2))\n",
    "denseModel.add(Dense(256, activation='relu'))\n",
    "denseModel.add(Dropout(0.2))\n",
    "denseModel.add(Dense(10, activation='softmax'))\n",
    "denseModel.compile(loss='categorical_crossentropy', optimizer='RMSprop', metrics=['accuracy'])"
   ]
  },
  {
   "cell_type": "code",
   "execution_count": null,
   "metadata": {},
   "outputs": [],
   "source": [
    "history = denseModel.fit(XTrain, y_train, \n",
    "                    batch_size=200, \n",
    "                    epochs=56, \n",
    "                    verbose=1, \n",
    "                    validation_data=(XTest, y_test))\n",
    "#epochs can be 200 too\n",
    "\n",
    "ypred = denseModel.predict_classes(XFinal)\n",
    "df3 = pd.DataFrame(np.array(ypred))\n",
    "df3.index+=1\n",
    "df3.to_csv(\"NNSub5.csv\")\n"
   ]
  },
  {
   "cell_type": "code",
   "execution_count": null,
   "metadata": {},
   "outputs": [],
   "source": []
  }
 ],
 "metadata": {
  "kernelspec": {
   "display_name": "Python 3",
   "language": "python",
   "name": "python3"
  },
  "language_info": {
   "codemirror_mode": {
    "name": "ipython",
    "version": 3
   },
   "file_extension": ".py",
   "mimetype": "text/x-python",
   "name": "python",
   "nbconvert_exporter": "python",
   "pygments_lexer": "ipython3",
   "version": "3.6.4"
  }
 },
 "nbformat": 4,
 "nbformat_minor": 2
}
